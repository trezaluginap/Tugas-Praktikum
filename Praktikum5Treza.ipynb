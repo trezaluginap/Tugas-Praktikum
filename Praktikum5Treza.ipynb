{
 "cells": [
  {
   "cell_type": "markdown",
   "id": "9b5546aa",
   "metadata": {},
   "source": [
    "<hr>\n",
    "<u1>jawaban no 1"
   ]
  },
  {
   "cell_type": "code",
   "execution_count": 1,
   "id": "214f28c4",
   "metadata": {},
   "outputs": [
    {
     "name": "stdout",
     "output_type": "stream",
     "text": [
      "Hobi kamu apa? :Bermain sepak bola\n",
      "Hobi kamu : Bermain sepak bola\n"
     ]
    }
   ],
   "source": [
    "hobi = input('Hobi kamu apa? :')\n",
    "print(f\"Hobi kamu : {hobi}\")"
   ]
  },
  {
   "cell_type": "markdown",
   "id": "c1b97c99",
   "metadata": {},
   "source": [
    "<hr>\n",
    "<ui>jawaban no 2\n",
    "    "
   ]
  },
  {
   "cell_type": "code",
   "execution_count": 2,
   "id": "e1a04a34",
   "metadata": {},
   "outputs": [
    {
     "name": "stdout",
     "output_type": "stream",
     "text": [
      "Siapa nama kamu :Treza\n",
      "Nama kamu berawalan huruf T\n"
     ]
    }
   ],
   "source": [
    "nama = input('Siapa nama kamu :')\n",
    "print(f\"Nama kamu berawalan huruf {nama[0]}\")"
   ]
  },
  {
   "cell_type": "markdown",
   "id": "83b2f988",
   "metadata": {},
   "source": [
    "<h3>Latihan</h3>\n",
    "<hr>1.Buatlah program tebak hasil dari perkalian dari 2 angka dari 0 sampai 100, jika user menjawab benar maka tampil Jawaban anda True dan jika salah, maka akan tampil Jawaban anda False<hr>"
   ]
  },
  {
   "cell_type": "code",
   "execution_count": 1,
   "id": "af09c4e3",
   "metadata": {},
   "outputs": [
    {
     "name": "stdout",
     "output_type": "stream",
     "text": [
      "Jawaban Tebak Perkalian 2 Angka\n",
      "Berapakah hasil perkalian 24 dan 59 : 1416\n",
      "Jawaban anda True\n"
     ]
    }
   ],
   "source": [
    "print(\"Jawaban Tebak Perkalian 2 Angka\")\n",
    "\n",
    "from random import randint\n",
    "angka_1 = randint(0,100)\n",
    "angka_2 = randint(0,100)\n",
    "\n",
    "hasil = int(input(f\"Berapakah hasil perkalian {angka_1} dan {angka_2} : \"))\n",
    "print(f\"Jawaban anda {hasil==angka_1 * angka_2}\")"
   ]
  },
  {
   "cell_type": "markdown",
   "id": "d4a0469b",
   "metadata": {},
   "source": [
    "<h3>Latihan</h3>\n",
    "<hr>Carilah kode CLDR Names dan unicode dari emoji, dan cetaklah menggunakan fungsi print<hr>\n"
   ]
  },
  {
   "cell_type": "code",
   "execution_count": 11,
   "id": "a69b033b",
   "metadata": {},
   "outputs": [
    {
     "name": "stdout",
     "output_type": "stream",
     "text": [
      "Names : grinning face\n",
      "Unicode : U0001F600\n",
      "Hasil : 😀\n",
      "\n",
      "Names : rolling on the floor laughing\n",
      "Unicode : U0001F923\n",
      "Hasil : 🤣\n"
     ]
    }
   ],
   "source": [
    "print(\"Names : grinning face\")\n",
    "print(\"Unicode : U0001F600\")\n",
    "print(\"Hasil : \\U0001F600\")\n",
    "\n",
    "print(\"\\nNames : rolling on the floor laughing\")\n",
    "print(\"Unicode : U0001F923\")\n",
    "print(\"Hasil : \\U0001F923\")"
   ]
  },
  {
   "cell_type": "markdown",
   "id": "a4a14284",
   "metadata": {},
   "source": [
    "<h3>Latihan</h3>\n",
    "<hr>Jika terdapat sebuah string Belajar Pemrograman Phyton maka tampilkan OUTPUT berikut ini menggunakan fungsi PRINT\n",
    "<ol>\n",
    "    <li>Belajar</li>\n",
    "    <li>ajar</li>\n",
    "    <li>Pemrograman</li>\n",
    "    <li>Gram</li>\n",
    "    <li>Phyton</li>\n",
    "    <li>Py</li>\n",
    "    <li>Gram Phyton</li>\n",
    "    <li>pemrograman phyton</li>\n",
    "</ol>"
   ]
  },
  {
   "cell_type": "code",
   "execution_count": 27,
   "id": "87e1b364",
   "metadata": {},
   "outputs": [
    {
     "name": "stdout",
     "output_type": "stream",
     "text": [
      "1.Belajar\n",
      "2.ajar\n",
      "3.Pemrograman\n",
      "4.gram\n",
      "5.Python\n",
      "6.Py\n",
      "7.gram Python\n",
      "8.Pemrograman Python\n"
     ]
    }
   ],
   "source": [
    "kalimat = \"Belajar Pemrograman Python\"\n",
    "print(f'1.{kalimat[0:7]}')\n",
    "print(f'2.{kalimat[3:7]}')\n",
    "print(f'3.{kalimat[8:19]}')\n",
    "print(f'4.{kalimat[13:17]}')\n",
    "print(f'5.{kalimat[20:26]}')\n",
    "print(f'6.{kalimat[20:22]}')\n",
    "print(f'7.{kalimat[13:17]} {kalimat[20:26]}')\n",
    "print(f'8.{kalimat[8:19]} {kalimat[20:26]}')"
   ]
  },
  {
   "cell_type": "markdown",
   "id": "c186451f",
   "metadata": {},
   "source": [
    "<h3>Latihan</h3>\n",
    "<hr>Buatlah program untuk mengecek bahwa sebuah email termasuk valid atau tidak. Valid diartikan True dan tidak valid diartikan False Berikut contoh test case yang bisa digunakan sebagai acuan<hr>\n",
    "\n",
    "<ol>\n",
    "    <li>alunsujjada@gmailcom -> False</li>\n",
    "    <li>alunsujjada@gmail.com -> True</li>\n",
    "    <li>alun.sujjada@gmail.com -> False</li>\n",
    "    <li>alunsujjada.gmail.com -> False</li>\n",
    "    <li>alun.sujjada@gmailcom -> False</li>\n",
    "</ol>"
   ]
  },
  {
   "cell_type": "code",
   "execution_count": 31,
   "id": "95a80174",
   "metadata": {},
   "outputs": [
    {
     "name": "stdout",
     "output_type": "stream",
     "text": [
      "alunsujjada@gamil.com\n",
      "True\n"
     ]
    }
   ],
   "source": [
    "import re\n",
    "\n",
    "def email(cek_email):\n",
    "   syarat = \"^[a-zA-Z0-9-_]+@[a-zA-Z0-9]+\\.[a-z]{1,3}$\"\n",
    "   if re.match(syarat,cek_email):\n",
    "      return True\n",
    "   return False\n",
    "\n",
    "cek_email = input()\n",
    "print(email(cek_email))"
   ]
  },
  {
   "cell_type": "code",
   "execution_count": null,
   "id": "9ecf0d14",
   "metadata": {},
   "outputs": [],
   "source": []
  }
 ],
 "metadata": {
  "kernelspec": {
   "display_name": "Python 3 (ipykernel)",
   "language": "python",
   "name": "python3"
  },
  "language_info": {
   "codemirror_mode": {
    "name": "ipython",
    "version": 3
   },
   "file_extension": ".py",
   "mimetype": "text/x-python",
   "name": "python",
   "nbconvert_exporter": "python",
   "pygments_lexer": "ipython3",
   "version": "3.9.12"
  }
 },
 "nbformat": 4,
 "nbformat_minor": 5
}
